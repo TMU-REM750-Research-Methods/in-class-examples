{
 "cells": [
  {
   "cell_type": "markdown",
   "metadata": {},
   "source": [
    "## Introduction\n",
    "\n",
    "This in-class example demonstrates how to incorporate qualitative explanatory variables into a multiple linear regression model. It covers most all of the popular ways that binary (dummy) variables are included in a regression model.\n",
    "\n",
    "What you need to know:  \n",
    "- Statsmodels and pandas modules in python\n",
    "- Theoretical concepts on multiple linear regression model\n",
    "- How to create and work with binary (dummy) variables\n",
    "\n",
    "The list of [references](#References) for detailed concepts and techniques used in this exerise.\n",
    "***\n",
    "\n",
    "## Content\n",
    "- [Regression Using Dummy Variable](#Regression-Using-Dummy-Variable)\n",
    "- [Interactions Involving Dummy Variables](#Interactions-Involving-Dummy-Variables) \n",
    "- [References](#References)"
   ]
  },
  {
   "cell_type": "markdown",
   "metadata": {},
   "source": [
    "***\n",
    "## Data Description\n",
    "\n",
    "The data set is contained in a comma-separated value (csv) file named ```WAGE.csv``` with column headers. \n",
    "\n",
    "Description of the data is as follow:\n",
    "\n",
    "| Name | Description |\n",
    "| :--- | :--- |\n",
    "| wage     | average hourly earnings |\n",
    "| educ     | years of education |\n",
    "| exper    | years potential experience |\n",
    "| tenure   | years with current employer |\n",
    "| female   | = 1 if female |\n",
    "| married  | = 1 if married |\n",
    "| numdep   | number of dependents |\n",
    "| lwage     | log(wage) |\n",
    "| expersq  | exper^2 |\n",
    "| tenursq  | tenure^2 |"
   ]
  },
  {
   "cell_type": "markdown",
   "metadata": {},
   "source": [
    "***\n",
    "## Load the required modules"
   ]
  },
  {
   "cell_type": "code",
   "execution_count": null,
   "metadata": {
    "execution": {
     "iopub.execute_input": "2025-02-21T05:47:43.386622Z",
     "iopub.status.busy": "2025-02-21T05:47:43.386424Z",
     "iopub.status.idle": "2025-02-21T05:47:44.231858Z",
     "shell.execute_reply": "2025-02-21T05:47:44.231273Z"
    }
   },
   "outputs": [],
   "source": [
    "import numpy as np\n",
    "import pandas as pd\n",
    "import statsmodels\n",
    "import statsmodels.formula.api as smf"
   ]
  },
  {
   "cell_type": "markdown",
   "metadata": {},
   "source": [
    "***\n",
    "## Load the data set\n",
    "The data set is contained in a comma-separated value (csv) file named \"*WAGE*\" with column header. "
   ]
  },
  {
   "cell_type": "code",
   "execution_count": null,
   "metadata": {},
   "outputs": [],
   "source": []
  },
  {
   "cell_type": "markdown",
   "metadata": {},
   "source": [
    "#### Check if the data is properly imported"
   ]
  },
  {
   "cell_type": "code",
   "execution_count": null,
   "metadata": {},
   "outputs": [],
   "source": []
  },
  {
   "cell_type": "markdown",
   "metadata": {},
   "source": [
    "Summary statistics for women:"
   ]
  },
  {
   "cell_type": "code",
   "execution_count": null,
   "metadata": {},
   "outputs": [],
   "source": []
  },
  {
   "cell_type": "markdown",
   "metadata": {},
   "source": [
    "Summary statistics for men:"
   ]
  },
  {
   "cell_type": "code",
   "execution_count": null,
   "metadata": {},
   "outputs": [],
   "source": []
  },
  {
   "cell_type": "markdown",
   "metadata": {},
   "source": [
    "***\n",
    "## Regression Using Dummy Variable"
   ]
  },
  {
   "cell_type": "markdown",
   "metadata": {},
   "source": [
    "Consider a simpler model that only includes a dummy variable:\n",
    "$$wage = \\beta_0 + \\delta_0 female + u$$\n",
    "\n",
    "The coefficients in this have a simple interpretation. The intercept $\\beta_0$ is the average wage for men in the sample, i.e. $female=0$.\n",
    "\n",
    "It provides a simple way to carry out a *comparison-of-means* test between the two groups, which in this case are men and women.\n",
    "\n",
    "Generally, simple regression on a constant and a dummy variable is a straightforward way to compare the means of two groups."
   ]
  },
  {
   "cell_type": "code",
   "execution_count": null,
   "metadata": {},
   "outputs": [],
   "source": []
  },
  {
   "cell_type": "markdown",
   "metadata": {},
   "source": [
    "The average wage *difference* for women in the sample is:"
   ]
  },
  {
   "cell_type": "code",
   "execution_count": null,
   "metadata": {},
   "outputs": [],
   "source": []
  },
  {
   "cell_type": "markdown",
   "metadata": {},
   "source": [
    "The estimated wage differential between men and women is larger because it does not control for differences in education, experience, and tenure,\n",
    "and these are lower, on average, for women than for men in this sample."
   ]
  },
  {
   "cell_type": "markdown",
   "metadata": {},
   "source": [
    "We can also add other exogenous regressors to the model: \n",
    "$$wage = \\beta_0 + \\delta_0 female + \\beta_1 educ + \\beta_2 exper + \\beta_3 tenure + u.$$"
   ]
  },
  {
   "cell_type": "code",
   "execution_count": null,
   "metadata": {},
   "outputs": [],
   "source": []
  },
  {
   "cell_type": "markdown",
   "metadata": {},
   "source": [
    "The average wage *difference* for women in the sample is:"
   ]
  },
  {
   "cell_type": "code",
   "execution_count": null,
   "metadata": {},
   "outputs": [],
   "source": []
  },
  {
   "cell_type": "markdown",
   "metadata": {},
   "source": [
    "Why do we obtain different results?"
   ]
  },
  {
   "cell_type": "markdown",
   "metadata": {},
   "source": []
  },
  {
   "cell_type": "markdown",
   "metadata": {},
   "source": [
    "***\n",
    "## Interactions Involving Dummy Variables"
   ]
  },
  {
   "cell_type": "markdown",
   "metadata": {},
   "source": [
    "Consider a model that allows for wage differences among four groups: married men, married women, single men, and single women. To do this, we select **single men** as our base group and define dummy variables for each of the remaining groups. Call these $marrmale$ (married men), $marrfem$ (married women), and $singfem$ (single women).\n",
    "\n",
    "The model is specified as:\n",
    "$$\\log(wage) = \\beta_0 + \\delta_0 female + \\delta_1 married + \\delta_2 female \\cdot married + \\beta_1 educ + \\beta_2 exper + \\beta_3 exper^2 + \\beta_4 tenure + \\beta_5 tenure^2 + u$$\n",
    "where we use $(female \\cdot married)$ to denote the set of interaction between dummy variables.\n",
    "\n",
    "It is helpful to create those variables automatically *within* the model specification. For this purpose, we use the function for generating categorical variables in the ```statsmodels``` module.\n",
    "\n",
    "We can use the ```C()``` operator to explicitly indicate that $female$ and $married$ should be treated as categorica variables."
   ]
  },
  {
   "cell_type": "code",
   "execution_count": null,
   "metadata": {},
   "outputs": [],
   "source": []
  },
  {
   "cell_type": "markdown",
   "metadata": {},
   "source": [
    "#### Allowing for Different Slopes\n",
    "\n",
    "We can use the same approach for estimating different slopes.\n",
    "\n",
    "Consider the following model:\n",
    "$$\\log(wage) = \\beta_0 + \\delta_0 female + \\beta_1 educ + \\delta_2 female \\cdot educ + \\beta_2 exper + \\beta_3 exper^2 + \\beta_4 tenure + \\beta_5 tenure^2 + u.$$"
   ]
  },
  {
   "cell_type": "code",
   "execution_count": null,
   "metadata": {},
   "outputs": [],
   "source": []
  },
  {
   "cell_type": "markdown",
   "metadata": {},
   "source": [
    "***\n",
    "## References\n",
    "\n",
    "- Jeffrey M. Wooldridge (2019) \"Introductory Econometrics: A Modern Approach, 7e\" Chapter 7.\n",
    "\n",
    "- The pandas development team (2020). \"[pandas-dev/pandas: Pandas](https://pandas.pydata.org/).\" Zenodo.\n",
    "    \n",
    "- Seabold, Skipper, and Josef Perktold (2010). \"[statsmodels: Econometric and statistical modeling with python](https://www.statsmodels.org/stable/examples/notebooks/generated/ols.html).\" Proceedings of the 9th Python in Science Conference."
   ]
  }
 ],
 "metadata": {
  "kernelspec": {
   "display_name": "Python 3",
   "language": "python",
   "name": "python3"
  },
  "language_info": {
   "codemirror_mode": {
    "name": "ipython",
    "version": 3
   },
   "file_extension": ".py",
   "mimetype": "text/x-python",
   "name": "python",
   "nbconvert_exporter": "python",
   "pygments_lexer": "ipython3",
   "version": "3.13.1"
  }
 },
 "nbformat": 4,
 "nbformat_minor": 4
}
