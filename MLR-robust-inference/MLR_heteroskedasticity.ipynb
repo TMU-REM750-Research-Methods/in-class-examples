{
 "cells": [
  {
   "cell_type": "markdown",
   "metadata": {},
   "source": [
    "## Introduction\n",
    "\n",
    "This in-class example demonstrates how to calculate heteroskeasticity-robust standard error and conduct tests on the existence of heteroskedasticity.\n",
    "\n",
    "What you need to know:  \n",
    "- Statsmodels and pandas modules in python\n",
    "- Theoretical concepts on linear regression model\n",
    "- Theoretical concepts on heteroskedasticity\n",
    "\n",
    "The list of [references](#References) for detailed concepts and techniques used in this exerise.\n",
    "***\n",
    "\n",
    "## Content\n",
    "- [Model under the assumption of *homoskedasticity*](#Model-under-the-assumption-of-*homoskedasticity*)\n",
    "- [Test for heteroskedasticity](#Test-for-heteroskedasticity)\n",
    "- [Model under the assumption of *heteroskedasticity*](#Model-under-the-assumption-of-*heteroskedasticity*) \n",
    "- [References](#References)"
   ]
  },
  {
   "cell_type": "markdown",
   "metadata": {},
   "source": [
    "***\n",
    "\n",
    "## Data Description\n",
    "\n",
    "The data set is contained in a comma-separated value (csv) file named ```hprice1.csv``` with column headers. \n",
    "\n",
    "Description of the data is as follow:\n",
    " \n",
    "| Name | Description |\n",
    "| :--- | :--- |\n",
    "| price    | house price, \\$1000s |\n",
    "| assess   | assessed value, \\$1000s |\n",
    "| bdrms    | number of bdrms |\n",
    "| lotsize  | size of lot in square feet |\n",
    "| sqrft    | size of house in square feet |\n",
    "| colonial | =1 if home is colonial style |\n",
    "| lprice   | log(price) |\n",
    "| lassess  | log(assess) |\n",
    "| llotsize | log(lotsize) |\n",
    "| lsqrft   | log(sqrft) |"
   ]
  },
  {
   "cell_type": "markdown",
   "metadata": {},
   "source": [
    "***\n",
    "## Load the required modules"
   ]
  },
  {
   "cell_type": "code",
   "execution_count": 1,
   "metadata": {
    "execution": {
     "iopub.execute_input": "2025-02-21T05:47:47.037495Z",
     "iopub.status.busy": "2025-02-21T05:47:47.037315Z",
     "iopub.status.idle": "2025-02-21T05:47:48.187290Z",
     "shell.execute_reply": "2025-02-21T05:47:48.186611Z"
    }
   },
   "outputs": [],
   "source": [
    "import numpy as np\n",
    "import pandas as pd\n",
    "import statsmodels\n",
    "import statsmodels.api as sm\n",
    "import statsmodels.formula.api as smf\n",
    "import statsmodels.stats.diagnostic as smd\n",
    "import matplotlib.pyplot"
   ]
  },
  {
   "cell_type": "markdown",
   "metadata": {},
   "source": [
    "***\n",
    "## Import the data set\n",
    "\n",
    "#### Load the data set into Python"
   ]
  },
  {
   "cell_type": "code",
   "execution_count": 2,
   "metadata": {},
   "outputs": [],
   "source": [
    "hprice = pd.read_csv(\"hprice1.csv\")"
   ]
  },
  {
   "cell_type": "markdown",
   "metadata": {},
   "source": [
    "***\n",
    "## Estimate a House Price Model"
   ]
  },
  {
   "cell_type": "markdown",
   "metadata": {},
   "source": [
    "Consider a house price model in terms of the levels:\n",
    "$$price = \\beta_0 + \\beta_1 lotsize + \\beta_2 sqrft + \\beta_3 bdrms + u$$"
   ]
  },
  {
   "cell_type": "markdown",
   "metadata": {},
   "source": [
    "### Model under the assumption of *homoskedasticity*\n",
    "\n",
    "#### Estimate the model"
   ]
  },
  {
   "cell_type": "code",
   "execution_count": 3,
   "metadata": {},
   "outputs": [],
   "source": [
    "model = smf.ols(formula = 'price ~ lotsize + sqrft + bdrms', data = hprice).fit()"
   ]
  },
  {
   "cell_type": "markdown",
   "metadata": {},
   "source": [
    "#### Get the estimation results"
   ]
  },
  {
   "cell_type": "code",
   "execution_count": 5,
   "metadata": {},
   "outputs": [
    {
     "name": "stdout",
     "output_type": "stream",
     "text": [
      "                            OLS Regression Results                            \n",
      "==============================================================================\n",
      "Dep. Variable:                  price   R-squared:                       0.672\n",
      "Model:                            OLS   Adj. R-squared:                  0.661\n",
      "Method:                 Least Squares   F-statistic:                     57.46\n",
      "Date:                Tue, 25 Mar 2025   Prob (F-statistic):           2.70e-20\n",
      "Time:                        15:00:35   Log-Likelihood:                -482.88\n",
      "No. Observations:                  88   AIC:                             973.8\n",
      "Df Residuals:                      84   BIC:                             983.7\n",
      "Df Model:                           3                                         \n",
      "Covariance Type:            nonrobust                                         \n",
      "==============================================================================\n",
      "                 coef    std err          t      P>|t|      [0.025      0.975]\n",
      "------------------------------------------------------------------------------\n",
      "Intercept    -21.7703     29.475     -0.739      0.462     -80.385      36.844\n",
      "lotsize        0.0021      0.001      3.220      0.002       0.001       0.003\n",
      "sqrft          0.1228      0.013      9.275      0.000       0.096       0.149\n",
      "bdrms         13.8525      9.010      1.537      0.128      -4.065      31.770\n",
      "==============================================================================\n",
      "Omnibus:                       20.398   Durbin-Watson:                   2.110\n",
      "Prob(Omnibus):                  0.000   Jarque-Bera (JB):               32.278\n",
      "Skew:                           0.961   Prob(JB):                     9.79e-08\n",
      "Kurtosis:                       5.261   Cond. No.                     6.41e+04\n",
      "==============================================================================\n",
      "\n",
      "Notes:\n",
      "[1] Standard Errors assume that the covariance matrix of the errors is correctly specified.\n",
      "[2] The condition number is large, 6.41e+04. This might indicate that there are\n",
      "strong multicollinearity or other numerical problems.\n"
     ]
    }
   ],
   "source": [
    "print(model.summary())"
   ]
  },
  {
   "cell_type": "markdown",
   "metadata": {},
   "source": [
    "***\n",
    "### Test for heteroskedasticity"
   ]
  },
  {
   "cell_type": "markdown",
   "metadata": {},
   "source": [
    "There are a few useful Python [methods](https://www.statsmodels.org/stable/generated/statsmodels.regression.linear_model.RegressionResults.html) for linear regression results in the Statsmodels module that we use here:\n",
    "- ```resid``` for the residuals of the estimated model\n",
    "- ```model.exog``` for the data of the exogenous regressors"
   ]
  },
  {
   "cell_type": "markdown",
   "metadata": {},
   "source": [
    "Label the test statistics. Later we will use the ```zip()``` function to return combine the label with the test statistics."
   ]
  },
  {
   "cell_type": "code",
   "execution_count": 6,
   "metadata": {},
   "outputs": [],
   "source": [
    "labels = ['LM Statistics', 'LM-Test p-value', 'F-Statistics', 'F-Test p-value']"
   ]
  },
  {
   "cell_type": "markdown",
   "metadata": {},
   "source": [
    "#### Breusch-Pagan test\n",
    "\n",
    "Estimate the equation\n",
    "$$\\hat{u}^2 = \\delta_0 + \\delta_1 x_1 + \\ldots + \\delta_k x_k + error$$\n",
    "\n",
    "Null hypothesis: \n",
    "$$H_0: \\delta_1 = \\delta_2 = \\ldots = \\delta_k = 0$$"
   ]
  },
  {
   "cell_type": "code",
   "execution_count": null,
   "metadata": {},
   "outputs": [
    {
     "name": "stdout",
     "output_type": "stream",
     "text": [
      "(np.float64(14.09238551459098), np.float64(0.0027820595423350978), np.float64(5.338919367860907), np.float64(0.002047744409670769))\n"
     ]
    },
    {
     "data": {
      "text/plain": [
       "{'LM Statistics': np.float64(14.09238551459098),\n",
       " 'LM-Test p-value': np.float64(0.0027820595423350978),\n",
       " 'F-Statistics': np.float64(5.338919367860907),\n",
       " 'F-Test p-value': np.float64(0.002047744409670769)}"
      ]
     },
     "execution_count": 9,
     "metadata": {},
     "output_type": "execute_result"
    }
   ],
   "source": [
    "bp_test = smd.het_breuschpagan(model.resid, model.model.exog)\n",
    "dict(zip(labels, bp_test))"
   ]
  },
  {
   "cell_type": "markdown",
   "metadata": {},
   "source": [
    "#### White test\n",
    "\n",
    "For a model contains $k=3$ independent variables:\n",
    "$$\\hat{u}^2 = \\delta_0 + \\delta_1 x_1 + \\delta_2 x_2 + \\delta_3 x_3 + \\delta_4 x_1^2 + \\delta_5 x_2^2 + \\delta_6 x_3^2 + \\delta_7 x_1 x_2 + \\delta_8 x_1 x_3 + \\delta_9 x_2 x_3 + error$$\n",
    "\n",
    "Null hypothesis:\n",
    "$$H_0: \\delta_1 = \\delta_2 = \\ldots = \\delta_9 = 0$$"
   ]
  },
  {
   "cell_type": "code",
   "execution_count": 13,
   "metadata": {},
   "outputs": [
    {
     "data": {
      "text/plain": [
       "{'LM Statistics': np.float64(33.73165748164103),\n",
       " 'LM-Test p-value': np.float64(9.952940693798682e-05),\n",
       " 'F-Statistics': np.float64(5.386953386473093),\n",
       " 'F-Test p-value': np.float64(1.0129389769589199e-05)}"
      ]
     },
     "execution_count": 13,
     "metadata": {},
     "output_type": "execute_result"
    }
   ],
   "source": [
    "white_test = smd.het_white(model.resid, model.model.exog)\n",
    "dict(zip(labels, white_test))"
   ]
  },
  {
   "cell_type": "markdown",
   "metadata": {},
   "source": [
    "#### White test (specific form)\n",
    "\n",
    "Use $\\hat{y}_i^2$ to get a particular function of all the squares and cross products\n",
    "$$\\hat{u}^2 = \\delta_0 + \\delta_1 \\hat{y} + \\delta_2 \\hat{y}^2 + error$$\n",
    "\n",
    "Null hypothesis: $$H_0: \\delta_1 = 0, \\delta_2 = 0$$"
   ]
  },
  {
   "cell_type": "markdown",
   "metadata": {},
   "source": [
    "Create the set of regressors"
   ]
  },
  {
   "cell_type": "code",
   "execution_count": 17,
   "metadata": {},
   "outputs": [],
   "source": [
    "cons_term = np.ones(len(model.predict()))\n",
    "white_regressors = np.column_stack([model.predict(), model.predict()**2.0, cons_term])"
   ]
  },
  {
   "cell_type": "markdown",
   "metadata": {},
   "source": [
    "Conduct the test:"
   ]
  },
  {
   "cell_type": "code",
   "execution_count": 19,
   "metadata": {},
   "outputs": [
    {
     "data": {
      "text/plain": [
       "{'LM Statistics': np.float64(17.584498728567),\n",
       " 'LM-Test p-value': np.float64(0.0014875003686478062),\n",
       " 'F-Statistics': np.float64(5.181790117651173),\n",
       " 'F-Test p-value': np.float64(0.0008919571003527716)}"
      ]
     },
     "execution_count": 19,
     "metadata": {},
     "output_type": "execute_result"
    }
   ],
   "source": [
    "white_test_special = smd.het_white(model.resid, white_regressors)\n",
    "dict(zip(labels, white_test_special))"
   ]
  },
  {
   "cell_type": "markdown",
   "metadata": {},
   "source": [
    "***\n",
    "### Create a scatter plot to visualize the heteroskedastic variance"
   ]
  },
  {
   "cell_type": "code",
   "execution_count": 20,
   "metadata": {},
   "outputs": [
    {
     "data": {
      "text/plain": [
       "<matplotlib.collections.PathCollection at 0x71a5ef068050>"
      ]
     },
     "execution_count": 20,
     "metadata": {},
     "output_type": "execute_result"
    },
    {
     "data": {
      "image/png": "[encoded data removed]",
      "text/plain": [
       "<Figure size 640x480 with 1 Axes>"
      ]
     },
     "metadata": {},
     "output_type": "display_data"
    }
   ],
   "source": [
    "matplotlib.pyplot.scatter(model.predict(), model.resid)"
   ]
  },
  {
   "cell_type": "markdown",
   "metadata": {},
   "source": [
    "***\n",
    "## Model under the assumption of *heteroskedasticity*\n",
    "\n",
    "#### Estimate the model\n",
    "For robust standard error in MacKinnon and White (1985), specify the covariance type using ```cov_type='HC1'``` in OLS class method ```fit()```."
   ]
  },
  {
   "cell_type": "code",
   "execution_count": 22,
   "metadata": {},
   "outputs": [],
   "source": [
    "model_robust = smf.ols(formula = 'price ~ lotsize + sqrft + bdrms', data = hprice).fit(cov_type='HC1')"
   ]
  },
  {
   "cell_type": "markdown",
   "metadata": {},
   "source": [
    "#### Get the estimation results"
   ]
  },
  {
   "cell_type": "code",
   "execution_count": 23,
   "metadata": {},
   "outputs": [
    {
     "name": "stdout",
     "output_type": "stream",
     "text": [
      "                            OLS Regression Results                            \n",
      "==============================================================================\n",
      "Dep. Variable:                  price   R-squared:                       0.672\n",
      "Model:                            OLS   Adj. R-squared:                  0.661\n",
      "Method:                 Least Squares   F-statistic:                     57.46\n",
      "Date:                Tue, 25 Mar 2025   Prob (F-statistic):           2.70e-20\n",
      "Time:                        16:00:12   Log-Likelihood:                -482.88\n",
      "No. Observations:                  88   AIC:                             973.8\n",
      "Df Residuals:                      84   BIC:                             983.7\n",
      "Df Model:                           3                                         \n",
      "Covariance Type:            nonrobust                                         \n",
      "==============================================================================\n",
      "                 coef    std err          t      P>|t|      [0.025      0.975]\n",
      "------------------------------------------------------------------------------\n",
      "Intercept    -21.7703     29.475     -0.739      0.462     -80.385      36.844\n",
      "lotsize        0.0021      0.001      3.220      0.002       0.001       0.003\n",
      "sqrft          0.1228      0.013      9.275      0.000       0.096       0.149\n",
      "bdrms         13.8525      9.010      1.537      0.128      -4.065      31.770\n",
      "==============================================================================\n",
      "Omnibus:                       20.398   Durbin-Watson:                   2.110\n",
      "Prob(Omnibus):                  0.000   Jarque-Bera (JB):               32.278\n",
      "Skew:                           0.961   Prob(JB):                     9.79e-08\n",
      "Kurtosis:                       5.261   Cond. No.                     6.41e+04\n",
      "==============================================================================\n",
      "\n",
      "Notes:\n",
      "[1] Standard Errors assume that the covariance matrix of the errors is correctly specified.\n",
      "[2] The condition number is large, 6.41e+04. This might indicate that there are\n",
      "strong multicollinearity or other numerical problems.\n"
     ]
    }
   ],
   "source": [
    "print(model.summary())"
   ]
  },
  {
   "cell_type": "markdown",
   "metadata": {},
   "source": [
    "***\n",
    "\n",
    "## References\n",
    "\n",
    "- Jeffrey M. Wooldridge (2019). \"Introductory Econometrics: A Modern Approach, 7e\" Chapter 8.\n",
    "    \n",
    "- The pandas development team (2020). \"[pandas-dev/pandas: Pandas](https://pandas.pydata.org/).\" Zenodo.\n",
    "    \n",
    "- Seabold, Skipper, and Josef Perktold (2010). \"[statsmodels: Econometric and statistical modeling with python](https://www.statsmodels.org/stable/examples/notebooks/generated/ols.html).\" Proceedings of the 9th Python in Science Conference."
   ]
  }
 ],
 "metadata": {
  "kernelspec": {
   "display_name": "Python 3",
   "language": "python",
   "name": "python3"
  },
  "language_info": {
   "codemirror_mode": {
    "name": "ipython",
    "version": 3
   },
   "file_extension": ".py",
   "mimetype": "text/x-python",
   "name": "python",
   "nbconvert_exporter": "python",
   "pygments_lexer": "ipython3",
   "version": "3.13.1"
  }
 },
 "nbformat": 4,
 "nbformat_minor": 4
}
